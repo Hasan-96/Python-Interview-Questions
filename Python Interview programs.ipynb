{
 "cells": [
  {
   "cell_type": "markdown",
   "id": "0f7b253d-f6c1-4c69-a6f8-5ade80156f3a",
   "metadata": {},
   "source": [
    "### 1.Write a Python program to check if a string is a palindrome."
   ]
  },
  {
   "cell_type": "code",
   "execution_count": 10,
   "id": "3fff439a-6a27-40ff-ba6b-eead73e0b380",
   "metadata": {},
   "outputs": [
    {
     "name": "stdin",
     "output_type": "stream",
     "text": [
      " 121\n"
     ]
    },
    {
     "name": "stdout",
     "output_type": "stream",
     "text": [
      "121 Is a Palindrome\n"
     ]
    }
   ],
   "source": [
    "n=input()\n",
    "i=n[::-1]\n",
    "if n==i:\n",
    "    print(n,\"Is a Palindrome\")\n",
    "else:\n",
    "    print(n,\"Is not a Palindrome\")"
   ]
  },
  {
   "cell_type": "markdown",
   "id": "6b4e0f0c-d6be-4cd7-bc89-11e6533cc8ba",
   "metadata": {},
   "source": [
    "### 2.Write a Python program to find the factorial of a number."
   ]
  },
  {
   "cell_type": "code",
   "execution_count": 16,
   "id": "b1203fb9-4b0b-420a-afc3-4af0f3189cb5",
   "metadata": {},
   "outputs": [
    {
     "name": "stdin",
     "output_type": "stream",
     "text": [
      "Enter a number:  4\n"
     ]
    },
    {
     "name": "stdout",
     "output_type": "stream",
     "text": [
      "The factorial of 4 is 24\n"
     ]
    }
   ],
   "source": [
    "num = int(input(\"Enter a number: \"))\n",
    "factorial = 1\n",
    "\n",
    "if num < 0:\n",
    "   print(\"Sorry, factorial does not exist\")\n",
    "elif num == 0:\n",
    "   print(\"The factorial of 0 is 1\")\n",
    "else:\n",
    "   for i in range(1,num + 1):\n",
    "       factorial = factorial*i\n",
    "   print(\"The factorial of\",num,\"is\",factorial)"
   ]
  },
  {
   "cell_type": "markdown",
   "id": "0389f05b-7174-4c06-a60a-8dadb1fb865e",
   "metadata": {},
   "source": [
    "### 3.Write a Python program to find the largest element in a list. "
   ]
  },
  {
   "cell_type": "code",
   "execution_count": 19,
   "id": "0dd30e76-682a-427f-ad36-56276b28a1d7",
   "metadata": {},
   "outputs": [
    {
     "name": "stdin",
     "output_type": "stream",
     "text": [
      "Enter your number:  1,7,9,4\n"
     ]
    },
    {
     "name": "stdout",
     "output_type": "stream",
     "text": [
      "[1, 7, 9, 4]\n",
      "the largest element is:  9\n"
     ]
    }
   ],
   "source": [
    "user = input(\"Enter your number: \")\n",
    "i = [int(x) for x in user.split(',')]\n",
    "result = max(i)\n",
    "print(i)\n",
    "print(\"the largest element is: \",result)"
   ]
  },
  {
   "cell_type": "markdown",
   "id": "12e9463a-d3e8-42bc-b2b3-18e11f87c304",
   "metadata": {},
   "source": [
    "### 4.Write a Python program to reverse a string."
   ]
  },
  {
   "cell_type": "code",
   "execution_count": 24,
   "id": "af50db8a-49ae-4918-8fde-d746fcedfd8c",
   "metadata": {},
   "outputs": [
    {
     "name": "stdin",
     "output_type": "stream",
     "text": [
      " hasan\n"
     ]
    },
    {
     "name": "stdout",
     "output_type": "stream",
     "text": [
      "Reverse String:  nasah\n"
     ]
    }
   ],
   "source": [
    "n=input()\n",
    "a=n[::-1]\n",
    "print(\"Reverse String: \",b)"
   ]
  },
  {
   "cell_type": "markdown",
   "id": "ffcbc405-f86a-43ca-95b6-edf1366d03cc",
   "metadata": {},
   "source": [
    "### 5.Write a Python program to count the frequency of each element in a list."
   ]
  },
  {
   "cell_type": "code",
   "execution_count": 60,
   "id": "0adc95a7-807b-4c5f-b42e-7b0e712ed934",
   "metadata": {},
   "outputs": [
    {
     "name": "stdout",
     "output_type": "stream",
     "text": [
      "Element frequencies: {'apple': 2, 'banana': 3, 'cherry': 1}\n"
     ]
    }
   ],
   "source": [
    "elements = [\"apple\", \"banana\", \"apple\", \"cherry\", \"banana\", \"banana\"]\n",
    "frequency = {}\n",
    "\n",
    "for element in elements:\n",
    "    if element in frequency:\n",
    "        frequency[element] += 1\n",
    "    else:\n",
    "        frequency[element] = 1\n",
    "        \n",
    "print(\"Element frequencies:\", frequency)"
   ]
  },
  {
   "cell_type": "markdown",
   "id": "d1a654b9-d980-4101-bf86-7789bcf8e713",
   "metadata": {},
   "source": [
    "### 6.Write a Python program to check if a number is prime. "
   ]
  },
  {
   "cell_type": "code",
   "execution_count": 50,
   "id": "49468cfe-a345-4504-95b1-49a78fed348d",
   "metadata": {},
   "outputs": [
    {
     "name": "stdin",
     "output_type": "stream",
     "text": [
      "Enter a number:  73\n"
     ]
    },
    {
     "name": "stdout",
     "output_type": "stream",
     "text": [
      "73 is a prime number\n"
     ]
    }
   ],
   "source": [
    "num =int(input(\"Enter a number: \"))\n",
    "if num > 1:\n",
    "\n",
    "    for i in range(2, (num//2)+1):\n",
    "\n",
    "        if (num % i) == 0:\n",
    "            print(num, \"is not a prime number\")\n",
    "            break\n",
    "    else:\n",
    "        print(num, \"is a prime number\")\n",
    "else:\n",
    "    print(num, \"is not a prime number\")"
   ]
  },
  {
   "cell_type": "markdown",
   "id": "50622d10-b14b-43e3-948c-739354afde16",
   "metadata": {},
   "source": [
    "### 7.Write a Python program to find the common elements between two lists. "
   ]
  },
  {
   "cell_type": "code",
   "execution_count": 64,
   "id": "2b411ffa-a00c-4288-9efd-4d088f5fb431",
   "metadata": {},
   "outputs": [
    {
     "name": "stdin",
     "output_type": "stream",
     "text": [
      "enter the values 2,3,5,67,4\n",
      "enter the values 2,5,2,5,34\n"
     ]
    },
    {
     "name": "stdout",
     "output_type": "stream",
     "text": [
      "[2, 5]\n"
     ]
    }
   ],
   "source": [
    "list1=list(map(int,input(\"enter the values\").split(\",\")))\n",
    "list2=list(map(int,input(\"enter the values\").split(\",\")))\n",
    "list3=[]\n",
    "for i in list1:\n",
    "    if i in list2:\n",
    "        list3.append(i)\n",
    "print(list3)  "
   ]
  },
  {
   "cell_type": "markdown",
   "id": "180828f7-9b58-48f4-a318-a3e960f6812d",
   "metadata": {},
   "source": [
    "### 8.Write a Python program to find the second largest number in a list."
   ]
  },
  {
   "cell_type": "code",
   "execution_count": 73,
   "id": "c6805c7d-b363-48dc-8a1d-881b57558a67",
   "metadata": {},
   "outputs": [
    {
     "name": "stdin",
     "output_type": "stream",
     "text": [
      "Enter Elements separated by commas :  23,543,8775,7644\n"
     ]
    },
    {
     "name": "stdout",
     "output_type": "stream",
     "text": [
      "The second largest number in the list is: 7644\n"
     ]
    }
   ],
   "source": [
    "def find_second_largest(numbers):\n",
    "    unique_numbers = list(set(numbers)) \n",
    "    if len(unique_numbers) < 2:\n",
    "        return None  \n",
    "\n",
    "    unique_numbers.sort()  \n",
    "    return unique_numbers[-2]  \n",
    "    \n",
    "f= input(\"Enter Elements separated by commas : \")\n",
    "numbers= [str(x) for x in f.split(',')]\n",
    "\n",
    "second_largest = find_second_largest(numbers) #calling the function\n",
    "\n",
    "print(\"The second largest number in the list is:\", second_largest)"
   ]
  },
  {
   "cell_type": "markdown",
   "id": "7745181d-98cd-4117-ae3c-fa9f18c30525",
   "metadata": {},
   "source": [
    "### 9.Write a Python program to remove duplicates from a list. "
   ]
  },
  {
   "cell_type": "code",
   "execution_count": 76,
   "id": "5b8fd551-4fd3-4d2d-851a-23114af88920",
   "metadata": {},
   "outputs": [
    {
     "name": "stdin",
     "output_type": "stream",
     "text": [
      " hasan\n"
     ]
    },
    {
     "name": "stdout",
     "output_type": "stream",
     "text": [
      "['h', 'a', 's', 'n']\n"
     ]
    }
   ],
   "source": [
    "#duplicate from list\n",
    "a=input()\n",
    "b=list(dict.fromkeys(a))\n",
    "print(b)"
   ]
  },
  {
   "cell_type": "markdown",
   "id": "4c39123d-e7f7-488b-9233-c1721ddbe604",
   "metadata": {},
   "source": [
    "### 10.Write a python program to Counting Vowels in Word."
   ]
  },
  {
   "cell_type": "code",
   "execution_count": 79,
   "id": "5b03d578-9c10-401a-ab44-da3a19fa0ad5",
   "metadata": {},
   "outputs": [
    {
     "name": "stdin",
     "output_type": "stream",
     "text": [
      "Enter the String: hasan\n"
     ]
    },
    {
     "name": "stdout",
     "output_type": "stream",
     "text": [
      "no. of vowels: 2\n",
      "no. of consonants 3\n"
     ]
    }
   ],
   "source": [
    "x=input(\"Enter the String:\")\n",
    "m=x.lower()\n",
    "vowels=[\"a\",\"e\",\"i\",\"o\",\"u\"]\n",
    "g=0\n",
    "d=0\n",
    "for i in m:\n",
    "    if i in vowels:\n",
    "        g=g+1\n",
    "    else:\n",
    "        d=d+1  \n",
    "print(\"no. of vowels:\",g)\n",
    "print(\"no. of consonants\",d)"
   ]
  },
  {
   "cell_type": "markdown",
   "id": "8d894cc6-1ab4-40ed-b905-9905a3324c44",
   "metadata": {},
   "source": [
    "### 11.Write a python Program to Count the Number of Occurrences of a Character in a String."
   ]
  },
  {
   "cell_type": "code",
   "execution_count": 82,
   "id": "f556dcf5-24e1-47eb-965b-e5de510b688b",
   "metadata": {},
   "outputs": [
    {
     "name": "stdin",
     "output_type": "stream",
     "text": [
      "Enter the string:  hasan\n",
      "Enter the character to count:  a\n"
     ]
    },
    {
     "name": "stdout",
     "output_type": "stream",
     "text": [
      "The character 'a' occurs 2 times in the string.\n"
     ]
    }
   ],
   "source": [
    "user_string = input(\"Enter the string: \")\n",
    "character = input(\"Enter the character to count: \")\n",
    "\n",
    "result = user_string.count(character)\n",
    "\n",
    "print(f\"The character '{character}' occurs {result} times in the string.\")"
   ]
  },
  {
   "cell_type": "markdown",
   "id": "6349a320-c770-4d7e-9f8b-307475a328ee",
   "metadata": {},
   "source": [
    "### 12.Write a python program to Find the Maximum Number in a List."
   ]
  },
  {
   "cell_type": "code",
   "execution_count": 87,
   "id": "f3ed2eb0-55c3-40b3-90a5-36786e934efc",
   "metadata": {},
   "outputs": [
    {
     "name": "stdin",
     "output_type": "stream",
     "text": [
      "Enter the first number 76\n",
      "Enter the second number 876\n",
      "Enter the third number 786\n"
     ]
    },
    {
     "name": "stdout",
     "output_type": "stream",
     "text": [
      "[76, 876, 786]\n",
      "876\n"
     ]
    }
   ],
   "source": [
    "a=int(input(\"Enter the first number\"))\n",
    "b=int(input(\"Enter the second number\"))\n",
    "c=int(input(\"Enter the third number\"))\n",
    "d=[a,b,c]\n",
    "print(d)\n",
    "print(max(d))"
   ]
  },
  {
   "cell_type": "markdown",
   "id": "70ab48b4-df26-4c2f-bb16-2d8bb223f582",
   "metadata": {},
   "source": [
    "### 13.Write a python program to Find the Minimum Number in a List. "
   ]
  },
  {
   "cell_type": "code",
   "execution_count": 90,
   "id": "8c0d851a-9188-488c-9a03-b8679c7c9451",
   "metadata": {},
   "outputs": [
    {
     "name": "stdin",
     "output_type": "stream",
     "text": [
      "Enter numbers separated by commas:  65,765,87\n"
     ]
    },
    {
     "name": "stdout",
     "output_type": "stream",
     "text": [
      "Minimum number: 65\n"
     ]
    }
   ],
   "source": [
    "user_input = input(\"Enter numbers separated by commas: \")\n",
    "i = [int(x) for x in user_input.split(',')]\n",
    "print(\"Minimum number:\",min(i))"
   ]
  },
  {
   "cell_type": "markdown",
   "id": "8cccc9a8-52b2-40ae-9fd6-24180fec08da",
   "metadata": {},
   "source": [
    "### 14.Python Program to find smallest number among three"
   ]
  },
  {
   "cell_type": "code",
   "execution_count": 93,
   "id": "541a32c7-f188-45d2-b7db-3777e705ebe7",
   "metadata": {},
   "outputs": [
    {
     "name": "stdin",
     "output_type": "stream",
     "text": [
      "Enter the first number 65\n",
      "Enter the second number 342\n",
      "Enter the third number 67\n"
     ]
    },
    {
     "name": "stdout",
     "output_type": "stream",
     "text": [
      "smallest number is: 65\n"
     ]
    }
   ],
   "source": [
    "a=int(input(\"Enter the first number\"))\n",
    "b=int(input(\"Enter the second number\"))\n",
    "c=int(input(\"Enter the third number\"))\n",
    "print(\"smallest number is:\",min(a,b,c))"
   ]
  },
  {
   "cell_type": "markdown",
   "id": "cfce352a-97ae-466d-83d6-7bca24fd6302",
   "metadata": {},
   "source": [
    "### 15.Python Program to calculate the square of a given number."
   ]
  },
  {
   "cell_type": "code",
   "execution_count": 98,
   "id": "97c87644-35e7-47df-8fa5-b86490631887",
   "metadata": {},
   "outputs": [
    {
     "name": "stdin",
     "output_type": "stream",
     "text": [
      " 6\n"
     ]
    },
    {
     "name": "stdout",
     "output_type": "stream",
     "text": [
      "Square of 6 : 36\n"
     ]
    }
   ],
   "source": [
    "n=int(input())\n",
    "square=n*n\n",
    "print(\"Square of\",n,':',square)"
   ]
  },
  {
   "cell_type": "markdown",
   "id": "201a071f-46bf-4838-bf68-7fbb62eca9ea",
   "metadata": {},
   "source": [
    "### 16.Python program to calculate LCM of given two numbers."
   ]
  },
  {
   "cell_type": "code",
   "execution_count": 101,
   "id": "93bd7ec4-e797-48cb-a245-b343ec107af6",
   "metadata": {},
   "outputs": [
    {
     "name": "stdin",
     "output_type": "stream",
     "text": [
      "Enter the first number 3\n",
      "Enter the second number 5\n"
     ]
    },
    {
     "name": "stdout",
     "output_type": "stream",
     "text": [
      "LCM is : 15\n"
     ]
    }
   ],
   "source": [
    "a=int(input(\"Enter the first number\"))\n",
    "b=int(input(\"Enter the second number\"))\n",
    "if a>b:\n",
    "    big=a\n",
    "#value=big\n",
    "else:\n",
    "    big=b\n",
    "while(True):\n",
    "    if big % a==0 and big % b==0:\n",
    "        lcm=big\n",
    "        break\n",
    "    big +=1\n",
    "    #big+=value\n",
    "print(\"LCM is :\",lcm)"
   ]
  },
  {
   "cell_type": "markdown",
   "id": "984996ab-b13e-4e9f-8126-9efc772ded2d",
   "metadata": {},
   "source": [
    "### 17.Python program to copy one string to another string."
   ]
  },
  {
   "cell_type": "code",
   "execution_count": 104,
   "id": "4cb934b5-3919-4638-af7a-f122f83a2756",
   "metadata": {},
   "outputs": [
    {
     "name": "stdin",
     "output_type": "stream",
     "text": [
      "Enter the String: hasan\n"
     ]
    },
    {
     "data": {
      "text/plain": [
       "'hasan'"
      ]
     },
     "execution_count": 104,
     "metadata": {},
     "output_type": "execute_result"
    }
   ],
   "source": [
    "a=input(\"Enter the String:\")\n",
    "b=a\n",
    "b"
   ]
  },
  {
   "cell_type": "markdown",
   "id": "871c84c6-c548-4a93-957b-47e05a01b612",
   "metadata": {},
   "source": [
    "### 18.Python Program to sort characters of string in ascending order. "
   ]
  },
  {
   "cell_type": "code",
   "execution_count": 107,
   "id": "b75a7c0b-3945-4d44-b907-2c3de0fa2c4e",
   "metadata": {},
   "outputs": [
    {
     "name": "stdin",
     "output_type": "stream",
     "text": [
      "Enter the string: hasan\n"
     ]
    },
    {
     "name": "stdout",
     "output_type": "stream",
     "text": [
      "a a h n s\n"
     ]
    }
   ],
   "source": [
    "n=input(\"Enter the string:\")\n",
    "s=list(n)\n",
    "s.sort()\n",
    "m=' '.join(s)\n",
    "print(m)"
   ]
  },
  {
   "cell_type": "markdown",
   "id": "3d66bc50-6f2b-48bc-a3f9-c7bd6c20e9df",
   "metadata": {},
   "source": [
    "### 19.Python Program to sort character of string in descending order."
   ]
  },
  {
   "cell_type": "code",
   "execution_count": 110,
   "id": "862ddfab-0f90-4a77-89f3-62bb388020d0",
   "metadata": {},
   "outputs": [
    {
     "name": "stdin",
     "output_type": "stream",
     "text": [
      "Enter the string: hasan\n"
     ]
    },
    {
     "name": "stdout",
     "output_type": "stream",
     "text": [
      "s n h a a\n"
     ]
    }
   ],
   "source": [
    "n=input(\"Enter the string:\")\n",
    "s=list(n)\n",
    "s.sort()\n",
    "m=' '.join(s)\n",
    "print(m[::-1])"
   ]
  },
  {
   "cell_type": "markdown",
   "id": "ce7f70d0-4e58-41db-970c-47a9b0124d78",
   "metadata": {},
   "source": [
    "### 20.Write a program in Python to swap two numbers without using third variable"
   ]
  },
  {
   "cell_type": "code",
   "execution_count": 119,
   "id": "16b25ee4-b369-4e20-92c7-697457a72768",
   "metadata": {},
   "outputs": [
    {
     "name": "stdin",
     "output_type": "stream",
     "text": [
      "Enter the 1st number: 76\n",
      "Enter the 2nd number: 6\n"
     ]
    },
    {
     "name": "stdout",
     "output_type": "stream",
     "text": [
      "After Swapping 1st: 6\n",
      "After swapping 2nd: 76\n"
     ]
    }
   ],
   "source": [
    "a=int(input(\"Enter the 1st number:\"))\n",
    "b=int(input(\"Enter the 2nd number:\"))\n",
    "c=a\n",
    "a=b\n",
    "b=c\n",
    "print(\"After Swapping 1st:\",a)\n",
    "print(\"After swapping 2nd:\",b)"
   ]
  },
  {
   "cell_type": "markdown",
   "id": "f7119fb6-b419-4b6a-8fe8-2fe35c7d11a5",
   "metadata": {},
   "source": [
    "### codes using function"
   ]
  },
  {
   "cell_type": "code",
   "execution_count": 4,
   "id": "bfe148fd-acc4-4723-b7d9-ecf207affbe2",
   "metadata": {},
   "outputs": [
    {
     "name": "stdin",
     "output_type": "stream",
     "text": [
      "Enter the number: 45\n"
     ]
    },
    {
     "name": "stdout",
     "output_type": "stream",
     "text": [
      "45 is a prime number\n"
     ]
    }
   ],
   "source": [
    "# 26. prime number using functions                          #26\n",
    "def prime(k):\n",
    "    if k==0 and k==1:\n",
    "        print(k,\"is not defined.\")\n",
    "    elif k>1:\n",
    "       for i in range(2,k):\n",
    "           if (k//i==0):\n",
    "            print(k,\"is not a prime number\")\n",
    "            break\n",
    "       else:\n",
    "            print(k,\"is a prime number\")\n",
    "    else:\n",
    "        print(k,\"is neither nor a prime number\")\n",
    "\n",
    "k=int(input(\"Enter the number:\"))\n",
    "prime(k)"
   ]
  },
  {
   "cell_type": "code",
   "execution_count": 8,
   "id": "3b3bf1e3-5c37-4cbb-b40d-b4846d8e21f5",
   "metadata": {},
   "outputs": [
    {
     "name": "stdin",
     "output_type": "stream",
     "text": [
      "Enter the Input:  121\n"
     ]
    },
    {
     "name": "stdout",
     "output_type": "stream",
     "text": [
      "121 is a Palindrome Number\n"
     ]
    }
   ],
   "source": [
    "#27.palindrome using functions                          #27\n",
    "def palindrome(a):\n",
    "    c=a[::-1]\n",
    "    if(c==a):\n",
    "        print(a,\"is a Palindrome Number\")\n",
    "    else:\n",
    "        print(a,\"is not a Palindrome Number\")\n",
    "a=input(\"Enter the Input: \")\n",
    "palindrome(a)"
   ]
  },
  {
   "cell_type": "code",
   "execution_count": 10,
   "id": "23983c22-46be-4086-a350-010c140aed64",
   "metadata": {},
   "outputs": [
    {
     "name": "stdin",
     "output_type": "stream",
     "text": [
      " 5\n"
     ]
    },
    {
     "name": "stdout",
     "output_type": "stream",
     "text": [
      "fibinocci series:\n",
      "0 1 1 2 3 "
     ]
    }
   ],
   "source": [
    "#28.code for Fibinocci Series.                      #28\n",
    "def fibinocci(n):\n",
    "    n1,n2=0,1\n",
    "    sum=0\n",
    "    if n<0:\n",
    "        print(\"Please enter positive number.\")\n",
    "    else:\n",
    "        print(\"fibinocci series:\")\n",
    "        for i in range(0,n):\n",
    "            print(sum,end=' ')\n",
    "            n1=n2\n",
    "            n2=sum\n",
    "            sum=n1+n2\n",
    "n=int(input())\n",
    "fibinocci(n)"
   ]
  },
  {
   "cell_type": "code",
   "execution_count": 14,
   "id": "4a7ea63e-1193-4d70-aa8f-2494fe8d27c1",
   "metadata": {},
   "outputs": [
    {
     "name": "stdin",
     "output_type": "stream",
     "text": [
      "Enter the string: hello\n"
     ]
    },
    {
     "name": "stdout",
     "output_type": "stream",
     "text": [
      "opening parentheses count: 0\n",
      "closing parentheses 0\n",
      "Parentheses are balanced\n"
     ]
    }
   ],
   "source": [
    "#29.Code for Counting Parentheses                  #29\n",
    "def parentheses_count(u):\n",
    "    open=u.count('(')\n",
    "    close=u.count(')')\n",
    "    print(\"opening parentheses count:\",open)\n",
    "    print(\"closing parentheses\",close)\n",
    "    if open==close:\n",
    "        print(\"Parentheses are balanced\")\n",
    "    else:\n",
    "        print(\"Parentheses are not balanced\")\n",
    "u=input(\"Enter the string:\")\n",
    "parentheses_count(u)"
   ]
  },
  {
   "cell_type": "code",
   "execution_count": 16,
   "id": "87f83ac5-5f3f-4240-af33-a6a73bd7d621",
   "metadata": {},
   "outputs": [
    {
     "name": "stdin",
     "output_type": "stream",
     "text": [
      " hasan\n"
     ]
    },
    {
     "name": "stdout",
     "output_type": "stream",
     "text": [
      "First non-repeating character is : h\n"
     ]
    }
   ],
   "source": [
    "#30.python code to return first non-repeating element.   #30\n",
    "def non_repeating(s):\n",
    "    flag = 0\n",
    "    for i in s:\n",
    "        if s.count(i) == 1:\n",
    "            print(\"First non-repeating character is :\", i)\n",
    "            flag = 1\n",
    "            break\n",
    "    if flag == 0:\n",
    "        print(\"No non-repeating character\")\n",
    "s=input()\n",
    "non_repeating(s)"
   ]
  },
  {
   "cell_type": "code",
   "execution_count": null,
   "id": "1881f9e2-acca-4700-8de9-b01fe5457007",
   "metadata": {},
   "outputs": [],
   "source": []
  }
 ],
 "metadata": {
  "kernelspec": {
   "display_name": "Python 3 (ipykernel)",
   "language": "python",
   "name": "python3"
  },
  "language_info": {
   "codemirror_mode": {
    "name": "ipython",
    "version": 3
   },
   "file_extension": ".py",
   "mimetype": "text/x-python",
   "name": "python",
   "nbconvert_exporter": "python",
   "pygments_lexer": "ipython3",
   "version": "3.12.4"
  }
 },
 "nbformat": 4,
 "nbformat_minor": 5
}
